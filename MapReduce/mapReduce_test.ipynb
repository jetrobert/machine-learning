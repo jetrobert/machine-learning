{
 "cells": [
  {
   "cell_type": "markdown",
   "metadata": {},
   "source": [
    "# comand on console (linux: cat inputFile.txt | python mrMeanMapper.py)"
   ]
  },
  {
   "cell_type": "code",
   "execution_count": 2,
   "metadata": {
    "collapsed": false
   },
   "outputs": [
    {
     "name": "stdout",
     "output_type": "stream",
     "text": [
      "100\t0.509570\t0.344439\n"
     ]
    },
    {
     "name": "stderr",
     "output_type": "stream",
     "text": [
      "report: still alive\n"
     ]
    }
   ],
   "source": [
    "!python mrMeanMapper.py < inputFile.txt"
   ]
  },
  {
   "cell_type": "code",
   "execution_count": 3,
   "metadata": {
    "collapsed": false
   },
   "outputs": [
    {
     "name": "stdout",
     "output_type": "stream",
     "text": [
      "100\t0.509570\t0.344439\n"
     ]
    },
    {
     "name": "stderr",
     "output_type": "stream",
     "text": [
      "report: still alive\n",
      "report: still alive\n"
     ]
    }
   ],
   "source": [
    "!python mrMeanMapper.py < inputFile.txt | python mrMeanReducer.py"
   ]
  },
  {
   "cell_type": "markdown",
   "metadata": {},
   "source": [
    "# map -> reduce "
   ]
  },
  {
   "cell_type": "code",
   "execution_count": 4,
   "metadata": {
    "collapsed": false
   },
   "outputs": [
    {
     "name": "stderr",
     "output_type": "stream",
     "text": [
      "No configs found; falling back on auto-configuration\n",
      "Creating temp directory c:\\users\\jet\\appdata\\local\\temp\\mrMean.Stephen.20170709.102420.316000\n",
      "mr() is deprecated and will be removed in v0.6.0. Use mrjob.step.MRStep directly instead.\n",
      "Running step 1 of 1...\n",
      "reading from STDIN\n",
      "mr() is deprecated and will be removed in v0.6.0. Use mrjob.step.MRStep directly instead.\n",
      "mr() is deprecated and will be removed in v0.6.0. Use mrjob.step.MRStep directly instead.\n",
      "mr() is deprecated and will be removed in v0.6.0. Use mrjob.step.MRStep directly instead.\n",
      "mr() is deprecated and will be removed in v0.6.0. Use mrjob.step.MRStep directly instead.\n",
      "mr() is deprecated and will be removed in v0.6.0. Use mrjob.step.MRStep directly instead.\n",
      "mr() is deprecated and will be removed in v0.6.0. Use mrjob.step.MRStep directly instead.\n",
      "Streaming final output from c:\\users\\jet\\appdata\\local\\temp\\mrMean.Stephen.20170709.102420.316000\\output...\n",
      "Removing temp directory c:\\users\\jet\\appdata\\local\\temp\\mrMean.Stephen.20170709.102420.316000...\n"
     ]
    }
   ],
   "source": [
    "!python mrMean.py < inputFile.txt > myOut.txt"
   ]
  },
  {
   "cell_type": "code",
   "execution_count": 5,
   "metadata": {
    "collapsed": false
   },
   "outputs": [
    {
     "name": "stdout",
     "output_type": "stream",
     "text": [
      "1\t[100,0.5095697,0.3444393131]\n"
     ]
    },
    {
     "name": "stderr",
     "output_type": "stream",
     "text": [
      "No handlers could be found for logger \"mrjob.job\"\n"
     ]
    }
   ],
   "source": [
    "! python mrMean.py --mapper < inputFile.txt"
   ]
  },
  {
   "cell_type": "code",
   "execution_count": 6,
   "metadata": {
    "collapsed": false
   },
   "outputs": [
    {
     "name": "stdout",
     "output_type": "stream",
     "text": [
      "0.5095697\t0.0847780339\n"
     ]
    },
    {
     "name": "stderr",
     "output_type": "stream",
     "text": [
      "No configs found; falling back on auto-configuration\n",
      "Creating temp directory c:\\users\\jet\\appdata\\local\\temp\\mrMean.Stephen.20170709.102420.940000\n",
      "mr() is deprecated and will be removed in v0.6.0. Use mrjob.step.MRStep directly instead.\n",
      "Running step 1 of 1...\n",
      "reading from STDIN\n",
      "mr() is deprecated and will be removed in v0.6.0. Use mrjob.step.MRStep directly instead.\n",
      "mr() is deprecated and will be removed in v0.6.0. Use mrjob.step.MRStep directly instead.\n",
      "mr() is deprecated and will be removed in v0.6.0. Use mrjob.step.MRStep directly instead.\n",
      "mr() is deprecated and will be removed in v0.6.0. Use mrjob.step.MRStep directly instead.\n",
      "mr() is deprecated and will be removed in v0.6.0. Use mrjob.step.MRStep directly instead.\n",
      "mr() is deprecated and will be removed in v0.6.0. Use mrjob.step.MRStep directly instead.\n",
      "Streaming final output from c:\\users\\jet\\appdata\\local\\temp\\mrMean.Stephen.20170709.102420.940000\\output...\n",
      "Removing temp directory c:\\users\\jet\\appdata\\local\\temp\\mrMean.Stephen.20170709.102420.940000...\n"
     ]
    }
   ],
   "source": [
    "! python mrMean.py < inputFile.txt"
   ]
  },
  {
   "cell_type": "markdown",
   "metadata": {},
   "source": [
    "# Pegasos SVM MapReduce"
   ]
  },
  {
   "cell_type": "code",
   "execution_count": 7,
   "metadata": {
    "collapsed": false
   },
   "outputs": [
    {
     "name": "stderr",
     "output_type": "stream",
     "text": [
      "No configs found; falling back on auto-configuration\n",
      "Creating temp directory c:\\users\\jet\\appdata\\local\\temp\\mrSVM.Stephen.20170709.102421.361000\n",
      "mr() is deprecated and will be removed in v0.6.0. Use mrjob.step.MRStep directly instead.\n",
      "Running step 1 of 2...\n",
      "reading from STDIN\n",
      "Traceback (most recent call last):\n",
      "  File \"mrSVM.py\", line 72, in <module>\n",
      "    MRsvm.run()\n",
      "  File \"D:\\ProgramFiles\\Anaconda2\\lib\\site-packages\\mrjob\\job.py\", line 439, in run\n",
      "    mr_job.execute()\n",
      "  File \"D:\\ProgramFiles\\Anaconda2\\lib\\site-packages\\mrjob\\job.py\", line 460, in execute\n",
      "    super(MRJob, self).execute()\n",
      "  File \"D:\\ProgramFiles\\Anaconda2\\lib\\site-packages\\mrjob\\launch.py\", line 161, in execute\n",
      "    self.run_job()\n",
      "  File \"D:\\ProgramFiles\\Anaconda2\\lib\\site-packages\\mrjob\\launch.py\", line 231, in run_job\n",
      "    runner.run()\n",
      "  File \"D:\\ProgramFiles\\Anaconda2\\lib\\site-packages\\mrjob\\runner.py\", line 476, in run\n",
      "    self._run()\n",
      "  File \"D:\\ProgramFiles\\Anaconda2\\lib\\site-packages\\mrjob\\sim.py\", line 185, in _run\n",
      "    self._invoke_step(step_num, 'mapper')\n",
      "  File \"D:\\ProgramFiles\\Anaconda2\\lib\\site-packages\\mrjob\\sim.py\", line 272, in _invoke_step\n",
      "    working_dir, env)\n",
      "  File \"D:\\ProgramFiles\\Anaconda2\\lib\\site-packages\\mrjob\\inline.py\", line 151, in _run_step\n",
      "    child_instance = self._mrjob_cls(args=child_args)\n",
      "  File \"mrSVM.py\", line 11, in __init__\n",
      "    self.data = pickle.load(open('svmDat27'))\n",
      "IOError: [Errno 2] No such file or directory: 'svmDat27'\n"
     ]
    }
   ],
   "source": [
    "! python mrSVM.py < kickStart.txt"
   ]
  },
  {
   "cell_type": "code",
   "execution_count": 8,
   "metadata": {
    "collapsed": false
   },
   "outputs": [
    {
     "name": "stdout",
     "output_type": "stream",
     "text": [
      "Usage: mrSVM.py [options] [input files]\n",
      "\n",
      "Options:\n",
      "  --batchsize=BATCHSIZE\n",
      "                        k: number of data points in a batch\n",
      "  -c CONF_PATHS, --conf-path=CONF_PATHS\n",
      "                        Path to alternate mrjob.conf file to read from\n",
      "  --no-conf=CONF_PATHS  Don't load mrjob.conf even if it's available\n",
      "  -h HELP, --help=HELP  show this message and exit\n",
      "  --iterations=ITERATIONS\n",
      "                        T: number of iterations to run\n",
      "  --no-output=NO_OUTPUT\n",
      "                        Don't stream output after job completion\n",
      "  -o OUTPUT_DIR, --output-dir=OUTPUT_DIR\n",
      "                        Where to put final job output. This must be an s3://\n",
      "                        URL for EMR, an HDFS path for Hadoop, and a system\n",
      "                        path for local,and must be empty\n",
      "  -q QUIET, --quiet=QUIET\n",
      "                        Don't print anything to stderr\n",
      "  -r RUNNER, --runner=RUNNER\n",
      "                        Where to run the job; one of dataproc, emr, hadoop,\n",
      "                        inline, or local\n",
      "  --step-output-dir=STEP_OUTPUT_DIR\n",
      "                        A directory to store output from job steps other than\n",
      "                        the last one. Useful for debugging. Currently ignored\n",
      "                        by local runners.\n",
      "  -v VERBOSE, --verbose=VERBOSE\n",
      "                        print more messages to stderr\n",
      "\n",
      "To see help for a specific runner, use --help -r <runner name>\n",
      "\n",
      "To see help for options that control what part of a job runs, use --help --steps\n",
      "\n",
      "To include help for deprecated options, add --deprecated\n",
      "\n"
     ]
    }
   ],
   "source": [
    "! python mrSVM.py -h"
   ]
  }
 ],
 "metadata": {
  "kernelspec": {
   "display_name": "Python 2",
   "language": "python",
   "name": "python2"
  },
  "language_info": {
   "codemirror_mode": {
    "name": "ipython",
    "version": 2
   },
   "file_extension": ".py",
   "mimetype": "text/x-python",
   "name": "python",
   "nbconvert_exporter": "python",
   "pygments_lexer": "ipython2",
   "version": "2.7.13"
  }
 },
 "nbformat": 4,
 "nbformat_minor": 2
}
