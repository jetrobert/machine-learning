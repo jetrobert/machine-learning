{
 "cells": [
  {
   "cell_type": "code",
   "execution_count": 1,
   "metadata": {
    "collapsed": true
   },
   "outputs": [],
   "source": [
    "import numpy as np\n",
    "import regTrees"
   ]
  },
  {
   "cell_type": "code",
   "execution_count": 2,
   "metadata": {
    "collapsed": false,
    "scrolled": true
   },
   "outputs": [
    {
     "name": "stdout",
     "output_type": "stream",
     "text": [
      "[[ 1.  0.  0.  0.]\n",
      " [ 0.  1.  0.  0.]\n",
      " [ 0.  0.  1.  0.]\n",
      " [ 0.  0.  0.  1.]]\n"
     ]
    }
   ],
   "source": [
    "testMat = np.mat(np.eye(4))\n",
    "print(testMat)"
   ]
  },
  {
   "cell_type": "markdown",
   "metadata": {},
   "source": [
    "# split matrix"
   ]
  },
  {
   "cell_type": "code",
   "execution_count": 3,
   "metadata": {
    "collapsed": false
   },
   "outputs": [
    {
     "name": "stdout",
     "output_type": "stream",
     "text": [
      "[[ 0.  1.  0.  0.]]\n",
      "[[ 1.  0.  0.  0.]\n",
      " [ 0.  0.  1.  0.]\n",
      " [ 0.  0.  0.  1.]]\n"
     ]
    }
   ],
   "source": [
    "mat0, mat1 = regTrees.binSplitDataSet(testMat, 1, 0.5)\n",
    "print(mat0)\n",
    "print(mat1)"
   ]
  },
  {
   "cell_type": "markdown",
   "metadata": {},
   "source": [
    "# create one-split tree"
   ]
  },
  {
   "cell_type": "code",
   "execution_count": 4,
   "metadata": {
    "collapsed": false,
    "scrolled": false
   },
   "outputs": [
    {
     "name": "stdout",
     "output_type": "stream",
     "text": [
      "{'spInd': 0, 'spVal': 0.48813, 'right': -0.044650285714285719, 'left': 1.0180967672413792}\n"
     ]
    }
   ],
   "source": [
    "myDat = regTrees.loadDataSet('ex00.txt')\n",
    "myMat = np.mat(myDat)\n",
    "regTree = regTrees.createTree(myMat)\n",
    "print(regTree)"
   ]
  },
  {
   "cell_type": "markdown",
   "metadata": {},
   "source": [
    "# multi-split tree"
   ]
  },
  {
   "cell_type": "code",
   "execution_count": 5,
   "metadata": {
    "collapsed": false
   },
   "outputs": [
    {
     "name": "stdout",
     "output_type": "stream",
     "text": [
      "{'spInd': 1, 'spVal': 0.39435, 'right': {'spInd': 1, 'spVal': 0.197834, 'right': -0.023838155555555553, 'left': 1.0289583666666666}, 'left': {'spInd': 1, 'spVal': 0.582002, 'right': 1.980035071428571, 'left': {'spInd': 1, 'spVal': 0.797583, 'right': 2.9836209534883724, 'left': 3.9871631999999999}}}\n"
     ]
    }
   ],
   "source": [
    "myDat1 = regTrees.loadDataSet('ex0.txt')\n",
    "myMat1 = np.mat(myDat1)\n",
    "regTree = regTrees.createTree(myMat1)\n",
    "print(regTree)"
   ]
  },
  {
   "cell_type": "markdown",
   "metadata": {},
   "source": [
    "# pre-pruning"
   ]
  },
  {
   "cell_type": "code",
   "execution_count": 6,
   "metadata": {
    "collapsed": false,
    "scrolled": false
   },
   "outputs": [
    {
     "data": {
      "text/plain": [
       "{'left': {'left': {'left': {'left': 105.24862350000001,\n",
       "    'right': 112.42895575000001,\n",
       "    'spInd': 0,\n",
       "    'spVal': 0.958512},\n",
       "   'right': {'left': {'left': {'left': {'left': 87.310387500000004,\n",
       "       'right': {'left': {'left': 96.452866999999998,\n",
       "         'right': {'left': 104.82540899999999,\n",
       "          'right': {'left': 95.181792999999999,\n",
       "           'right': 102.25234449999999,\n",
       "           'spInd': 0,\n",
       "           'spVal': 0.872883},\n",
       "          'spInd': 0,\n",
       "          'spVal': 0.892999},\n",
       "         'spInd': 0,\n",
       "         'spVal': 0.910975},\n",
       "        'right': 95.275843166666661,\n",
       "        'spInd': 0,\n",
       "        'spVal': 0.85497},\n",
       "       'spInd': 0,\n",
       "       'spVal': 0.944221},\n",
       "      'right': {'left': 81.110151999999999,\n",
       "       'right': 88.784498800000009,\n",
       "       'spInd': 0,\n",
       "       'spVal': 0.811602},\n",
       "      'spInd': 0,\n",
       "      'spVal': 0.833026},\n",
       "     'right': 102.35780185714285,\n",
       "     'spInd': 0,\n",
       "     'spVal': 0.790312},\n",
       "    'right': 78.085643250000004,\n",
       "    'spInd': 0,\n",
       "    'spVal': 0.759504},\n",
       "   'spInd': 0,\n",
       "   'spVal': 0.952833},\n",
       "  'right': {'left': {'left': {'left': 114.554706,\n",
       "     'right': {'left': 104.82495374999999,\n",
       "      'right': 108.92921799999999,\n",
       "      'spInd': 0,\n",
       "      'spVal': 0.698472},\n",
       "     'spInd': 0,\n",
       "     'spVal': 0.706961},\n",
       "    'right': 114.15162428571431,\n",
       "    'spInd': 0,\n",
       "    'spVal': 0.666452},\n",
       "   'right': {'left': 93.673449714285724,\n",
       "    'right': {'left': 123.2101316,\n",
       "     'right': {'left': 97.200180249999988,\n",
       "      'right': {'left': {'left': 109.38961049999999,\n",
       "        'right': 110.979946,\n",
       "        'spInd': 0,\n",
       "        'spVal': 0.543843},\n",
       "       'right': 101.73699325000001,\n",
       "       'spInd': 0,\n",
       "       'spVal': 0.51915},\n",
       "      'spInd': 0,\n",
       "      'spVal': 0.553797},\n",
       "     'spInd': 0,\n",
       "     'spVal': 0.582311},\n",
       "    'spInd': 0,\n",
       "    'spVal': 0.613004},\n",
       "   'spInd': 0,\n",
       "   'spVal': 0.640515},\n",
       "  'spInd': 0,\n",
       "  'spVal': 0.729397},\n",
       " 'right': {'left': {'left': 12.50675925,\n",
       "   'right': 3.4331330000000007,\n",
       "   'spInd': 0,\n",
       "   'spVal': 0.467383},\n",
       "  'right': {'left': {'left': {'left': -12.558604833333334,\n",
       "     'right': {'left': 14.38417875,\n",
       "      'right': {'left': -0.89235549999999952,\n",
       "       'right': 3.6584772500000016,\n",
       "       'spInd': 0,\n",
       "       'spVal': 0.385021},\n",
       "      'spInd': 0,\n",
       "      'spVal': 0.412516},\n",
       "     'spInd': 0,\n",
       "     'spVal': 0.437652},\n",
       "    'right': {'left': {'left': -15.085111749999999,\n",
       "      'right': -22.693879600000002,\n",
       "      'spInd': 0,\n",
       "      'spVal': 0.350725},\n",
       "     'right': {'left': 15.059290750000001,\n",
       "      'right': {'left': -19.994155200000002,\n",
       "       'right': {'left': {'left': {'left': {'left': {'left': 0.40377471428571476,\n",
       "            'right': -13.070501,\n",
       "            'spInd': 0,\n",
       "            'spVal': 0.25807},\n",
       "           'right': 6.770429,\n",
       "           'spInd': 0,\n",
       "           'spVal': 0.228473},\n",
       "          'right': -11.822278500000001,\n",
       "          'spInd': 0,\n",
       "          'spVal': 0.217214},\n",
       "         'right': 3.4496025000000001,\n",
       "         'spInd': 0,\n",
       "         'spVal': 0.202161},\n",
       "        'right': {'left': -12.107972500000001,\n",
       "         'right': -6.2479000000000013,\n",
       "         'spInd': 0,\n",
       "         'spVal': 0.156067},\n",
       "        'spInd': 0,\n",
       "        'spVal': 0.166765},\n",
       "       'spInd': 0,\n",
       "       'spVal': 0.297107},\n",
       "      'spInd': 0,\n",
       "      'spVal': 0.324274},\n",
       "     'spInd': 0,\n",
       "     'spVal': 0.335182},\n",
       "    'spInd': 0,\n",
       "    'spVal': 0.373501},\n",
       "   'right': {'left': 6.5098432857142843,\n",
       "    'right': {'left': -2.5443927142857148,\n",
       "     'right': 4.0916259999999998,\n",
       "     'spInd': 0,\n",
       "     'spVal': 0.044737},\n",
       "    'spInd': 0,\n",
       "    'spVal': 0.084661},\n",
       "   'spInd': 0,\n",
       "   'spVal': 0.126833},\n",
       "  'spInd': 0,\n",
       "  'spVal': 0.457563},\n",
       " 'spInd': 0,\n",
       " 'spVal': 0.499171}"
      ]
     },
     "execution_count": 6,
     "metadata": {},
     "output_type": "execute_result"
    }
   ],
   "source": [
    "myDat2 = regTrees.loadDataSet('ex2.txt')\n",
    "myMat2 = np.mat(myDat2)\n",
    "regTrees.createTree(myMat2)"
   ]
  },
  {
   "cell_type": "code",
   "execution_count": 7,
   "metadata": {
    "collapsed": false
   },
   "outputs": [
    {
     "data": {
      "text/plain": [
       "{'left': 101.35815937735848,\n",
       " 'right': -2.6377193297872341,\n",
       " 'spInd': 0,\n",
       " 'spVal': 0.499171}"
      ]
     },
     "execution_count": 7,
     "metadata": {},
     "output_type": "execute_result"
    }
   ],
   "source": [
    "regTrees.createTree(myMat2, ops=(10000,4))"
   ]
  },
  {
   "cell_type": "markdown",
   "metadata": {},
   "source": [
    "# post-pruning"
   ]
  },
  {
   "cell_type": "code",
   "execution_count": 8,
   "metadata": {
    "collapsed": false,
    "scrolled": false
   },
   "outputs": [
    {
     "name": "stdout",
     "output_type": "stream",
     "text": [
      "merging\n",
      "merging\n",
      "merging\n",
      "merging\n",
      "merging\n",
      "merging\n",
      "merging\n",
      "merging\n",
      "merging\n",
      "merging\n",
      "merging\n",
      "merging\n",
      "merging\n",
      "merging\n",
      "merging\n",
      "merging\n",
      "merging\n",
      "merging\n",
      "merging\n",
      "merging\n",
      "merging\n",
      "merging\n",
      "merging\n",
      "merging\n",
      "merging\n",
      "merging\n",
      "merging\n",
      "merging\n",
      "merging\n",
      "merging\n",
      "merging\n",
      "merging\n",
      "merging\n",
      "merging\n",
      "merging\n",
      "merging\n",
      "merging\n",
      "merging\n",
      "merging\n",
      "merging\n",
      "merging\n",
      "merging\n",
      "merging\n",
      "merging\n"
     ]
    },
    {
     "data": {
      "text/plain": [
       "{'left': {'left': {'left': {'left': 92.523991499999994,\n",
       "    'right': {'left': {'left': {'left': 112.386764,\n",
       "       'right': 123.559747,\n",
       "       'spInd': 0,\n",
       "       'spVal': 0.960398},\n",
       "      'right': 135.83701300000001,\n",
       "      'spInd': 0,\n",
       "      'spVal': 0.958512},\n",
       "     'right': 111.2013225,\n",
       "     'spInd': 0,\n",
       "     'spVal': 0.956951},\n",
       "    'spInd': 0,\n",
       "    'spVal': 0.965969},\n",
       "   'right': {'left': {'left': {'left': {'left': {'left': {'left': {'left': {'left': {'left': {'left': {'left': 96.41885225,\n",
       "              'right': 69.318648999999994,\n",
       "              'spInd': 0,\n",
       "              'spVal': 0.948822},\n",
       "             'right': {'left': {'left': 110.03503850000001,\n",
       "               'right': {'left': 65.548417999999998,\n",
       "                'right': {'left': 115.75399400000001,\n",
       "                 'right': {'left': {'left': 94.396114499999996,\n",
       "                   'right': 85.005351000000005,\n",
       "                   'spInd': 0,\n",
       "                   'spVal': 0.912161},\n",
       "                  'right': {'left': {'left': 106.814667,\n",
       "                    'right': 118.513475,\n",
       "                    'spInd': 0,\n",
       "                    'spVal': 0.908629},\n",
       "                   'right': {'left': 87.300624999999997,\n",
       "                    'right': {'left': {'left': 100.133819,\n",
       "                      'right': 108.09493399999999,\n",
       "                      'spInd': 0,\n",
       "                      'spVal': 0.900699},\n",
       "                     'right': {'left': 82.436685999999995,\n",
       "                      'right': {'left': 98.544549499999988,\n",
       "                       'right': 106.16859550000001,\n",
       "                       'spInd': 0,\n",
       "                       'spVal': 0.872199},\n",
       "                      'spInd': 0,\n",
       "                      'spVal': 0.888426},\n",
       "                     'spInd': 0,\n",
       "                     'spVal': 0.892999},\n",
       "                    'spInd': 0,\n",
       "                    'spVal': 0.901421},\n",
       "                   'spInd': 0,\n",
       "                   'spVal': 0.901444},\n",
       "                  'spInd': 0,\n",
       "                  'spVal': 0.910975},\n",
       "                 'spInd': 0,\n",
       "                 'spVal': 0.925782},\n",
       "                'spInd': 0,\n",
       "                'spVal': 0.934853},\n",
       "               'spInd': 0,\n",
       "               'spVal': 0.936524},\n",
       "              'right': {'left': {'left': 89.20993,\n",
       "                'right': 76.240983999999997,\n",
       "                'spInd': 0,\n",
       "                'spVal': 0.847219},\n",
       "               'right': 95.893130999999997,\n",
       "               'spInd': 0,\n",
       "               'spVal': 0.84294},\n",
       "              'spInd': 0,\n",
       "              'spVal': 0.85497},\n",
       "             'spInd': 0,\n",
       "             'spVal': 0.944221},\n",
       "            'right': 60.552307999999996,\n",
       "            'spInd': 0,\n",
       "            'spVal': 0.841625},\n",
       "           'right': 124.87935300000001,\n",
       "           'spInd': 0,\n",
       "           'spVal': 0.841547},\n",
       "          'right': {'left': 76.723834999999994,\n",
       "           'right': {'left': 59.342323,\n",
       "            'right': 70.054507999999998,\n",
       "            'spInd': 0,\n",
       "            'spVal': 0.819722},\n",
       "           'spInd': 0,\n",
       "           'spVal': 0.823848},\n",
       "          'spInd': 0,\n",
       "          'spVal': 0.833026},\n",
       "         'right': {'left': 118.319942,\n",
       "          'right': {'left': 99.841379000000003,\n",
       "           'right': 112.981216,\n",
       "           'spInd': 0,\n",
       "           'spVal': 0.811363},\n",
       "          'spInd': 0,\n",
       "          'spVal': 0.811602},\n",
       "         'spInd': 0,\n",
       "         'spVal': 0.815215},\n",
       "        'right': 73.494399250000001,\n",
       "        'spInd': 0,\n",
       "        'spVal': 0.806158},\n",
       "       'right': {'left': 114.4008695,\n",
       "        'right': 102.26514075,\n",
       "        'spInd': 0,\n",
       "        'spVal': 0.786865},\n",
       "       'spInd': 0,\n",
       "       'spVal': 0.790312},\n",
       "      'right': 64.041940999999994,\n",
       "      'spInd': 0,\n",
       "      'spVal': 0.769043},\n",
       "     'right': 115.199195,\n",
       "     'spInd': 0,\n",
       "     'spVal': 0.763328},\n",
       "    'right': 78.085643250000004,\n",
       "    'spInd': 0,\n",
       "    'spVal': 0.759504},\n",
       "   'spInd': 0,\n",
       "   'spVal': 0.952833},\n",
       "  'right': {'left': {'left': {'left': {'left': {'left': {'left': {'left': 110.90282999999999,\n",
       "         'right': {'left': 103.345308,\n",
       "          'right': 108.55391899999999,\n",
       "          'spInd': 0,\n",
       "          'spVal': 0.710234},\n",
       "         'spInd': 0,\n",
       "         'spVal': 0.716211},\n",
       "        'right': 135.41676699999999,\n",
       "        'spInd': 0,\n",
       "        'spVal': 0.70889},\n",
       "       'right': {'left': {'left': {'left': {'left': 106.18042699999999,\n",
       "           'right': 105.062147,\n",
       "           'spInd': 0,\n",
       "           'spVal': 0.70639},\n",
       "          'right': 115.58660500000001,\n",
       "          'spInd': 0,\n",
       "          'spVal': 0.699873},\n",
       "         'right': 92.470635999999999,\n",
       "         'spInd': 0,\n",
       "         'spVal': 0.69892},\n",
       "        'right': {'left': 120.521925,\n",
       "         'right': {'left': 101.91115275,\n",
       "          'right': 112.78136649999999,\n",
       "          'spInd': 0,\n",
       "          'spVal': 0.666452},\n",
       "         'spInd': 0,\n",
       "         'spVal': 0.689099},\n",
       "        'spInd': 0,\n",
       "        'spVal': 0.698472},\n",
       "       'spInd': 0,\n",
       "       'spVal': 0.706961},\n",
       "      'right': {'left': 121.98060700000001,\n",
       "       'right': {'left': 115.687524,\n",
       "        'right': 112.715799,\n",
       "        'spInd': 0,\n",
       "        'spVal': 0.652462},\n",
       "       'spInd': 0,\n",
       "       'spVal': 0.661073},\n",
       "      'spInd': 0,\n",
       "      'spVal': 0.665329},\n",
       "     'right': 82.500765999999999,\n",
       "     'spInd': 0,\n",
       "     'spVal': 0.642707},\n",
       "    'right': 140.61394100000001,\n",
       "    'spInd': 0,\n",
       "    'spVal': 0.642373},\n",
       "   'right': {'left': {'left': {'left': {'left': 82.713621000000003,\n",
       "       'right': {'left': 91.656616999999997,\n",
       "        'right': 93.645292999999995,\n",
       "        'spInd': 0,\n",
       "        'spVal': 0.632691},\n",
       "       'spInd': 0,\n",
       "       'spVal': 0.637999},\n",
       "      'right': {'left': 117.62834599999999,\n",
       "       'right': 105.970743,\n",
       "       'spInd': 0,\n",
       "       'spVal': 0.624827},\n",
       "      'spInd': 0,\n",
       "      'spVal': 0.628061},\n",
       "     'right': 82.04976400000001,\n",
       "     'spInd': 0,\n",
       "     'spVal': 0.623909},\n",
       "    'right': {'left': 168.180746,\n",
       "     'right': {'left': {'left': {'left': {'left': {'left': {'left': 93.521395999999996,\n",
       "           'right': {'left': 130.37852899999999,\n",
       "            'right': {'left': 111.9849935,\n",
       "             'right': {'left': 82.589327999999995,\n",
       "              'right': {'left': 114.872056,\n",
       "               'right': 108.43539199999999,\n",
       "               'spInd': 0,\n",
       "               'spVal': 0.569327},\n",
       "              'spInd': 0,\n",
       "              'spVal': 0.571214},\n",
       "             'spInd': 0,\n",
       "             'spVal': 0.582311},\n",
       "            'spInd': 0,\n",
       "            'spVal': 0.589806},\n",
       "           'spInd': 0,\n",
       "           'spVal': 0.599142},\n",
       "          'right': 82.903944999999993,\n",
       "          'spInd': 0,\n",
       "          'spVal': 0.560301},\n",
       "         'right': 129.06244849999999,\n",
       "         'spInd': 0,\n",
       "         'spVal': 0.553797},\n",
       "        'right': {'left': 83.114502000000002,\n",
       "         'right': {'left': 97.340526499999996,\n",
       "          'right': 90.995536000000001,\n",
       "          'spInd': 0,\n",
       "          'spVal': 0.537834},\n",
       "         'spInd': 0,\n",
       "         'spVal': 0.546601},\n",
       "        'spInd': 0,\n",
       "        'spVal': 0.548539},\n",
       "       'right': {'left': {'left': 129.76674299999999,\n",
       "         'right': 124.795495,\n",
       "         'spInd': 0,\n",
       "         'spVal': 0.531944},\n",
       "        'right': 116.17616200000001,\n",
       "        'spInd': 0,\n",
       "        'spVal': 0.51915},\n",
       "       'spInd': 0,\n",
       "       'spVal': 0.533511},\n",
       "      'right': {'left': 101.075609,\n",
       "       'right': {'left': 93.292828999999998,\n",
       "        'right': 96.403373000000002,\n",
       "        'spInd': 0,\n",
       "        'spVal': 0.508542},\n",
       "       'spInd': 0,\n",
       "       'spVal': 0.508548},\n",
       "      'spInd': 0,\n",
       "      'spVal': 0.513332},\n",
       "     'spInd': 0,\n",
       "     'spVal': 0.606417},\n",
       "    'spInd': 0,\n",
       "    'spVal': 0.613004},\n",
       "   'spInd': 0,\n",
       "   'spVal': 0.640515},\n",
       "  'spInd': 0,\n",
       "  'spVal': 0.729397},\n",
       " 'right': {'left': {'left': {'left': {'left': {'left': 8.5367700000000006,\n",
       "      'right': 27.729263,\n",
       "      'spInd': 0,\n",
       "      'spVal': 0.487381},\n",
       "     'right': 5.224234,\n",
       "     'spInd': 0,\n",
       "     'spVal': 0.483803},\n",
       "    'right': {'left': -9.7129250000000003,\n",
       "     'right': -23.777531,\n",
       "     'spInd': 0,\n",
       "     'spVal': 0.46568},\n",
       "    'spInd': 0,\n",
       "    'spVal': 0.467383},\n",
       "   'right': {'left': 30.051931,\n",
       "    'right': 17.171057000000001,\n",
       "    'spInd': 0,\n",
       "    'spVal': 0.463241},\n",
       "   'spInd': 0,\n",
       "   'spVal': 0.465561},\n",
       "  'right': {'left': -34.044555000000003,\n",
       "   'right': {'left': {'left': {'left': {'left': {'left': -4.1911744999999998,\n",
       "        'right': {'left': {'left': {'left': {'left': 19.745224,\n",
       "            'right': 15.224266,\n",
       "            'spInd': 0,\n",
       "            'spVal': 0.428582},\n",
       "           'right': -21.594268,\n",
       "           'spInd': 0,\n",
       "           'spVal': 0.426711},\n",
       "          'right': 44.161493,\n",
       "          'spInd': 0,\n",
       "          'spVal': 0.418943},\n",
       "         'right': {'left': -26.419288999999999,\n",
       "          'right': 0.63593000000000011,\n",
       "          'spInd': 0,\n",
       "          'spVal': 0.403228},\n",
       "         'spInd': 0,\n",
       "         'spVal': 0.412516},\n",
       "        'spInd': 0,\n",
       "        'spVal': 0.437652},\n",
       "       'right': 23.197474,\n",
       "       'spInd': 0,\n",
       "       'spVal': 0.388789},\n",
       "      'right': {'left': {'left': {'left': -29.007783,\n",
       "         'right': {'left': {'left': 13.583555,\n",
       "           'right': 5.2411960000000004,\n",
       "           'spInd': 0,\n",
       "           'spVal': 0.377383},\n",
       "          'right': -8.2282969999999995,\n",
       "          'spInd': 0,\n",
       "          'spVal': 0.373501},\n",
       "         'spInd': 0,\n",
       "         'spVal': 0.378965},\n",
       "        'right': {'left': -32.124495000000003,\n",
       "         'right': {'left': -9.9938275000000001,\n",
       "          'right': -26.851234812500003,\n",
       "          'spInd': 0,\n",
       "          'spVal': 0.350725},\n",
       "         'spInd': 0,\n",
       "         'spVal': 0.35679},\n",
       "        'spInd': 0,\n",
       "        'spVal': 0.370042},\n",
       "       'right': {'left': 22.286959625000001,\n",
       "        'right': {'left': {'left': -20.397333499999998,\n",
       "          'right': -49.939515999999998,\n",
       "          'spInd': 0,\n",
       "          'spVal': 0.310956},\n",
       "         'right': {'left': {'left': {'left': {'left': {'left': {'left': {'left': {'left': {'left': {'left': 8.8147249999999993,\n",
       "                   'right': {'left': -18.051317999999998,\n",
       "                    'right': {'left': -1.7983769999999999,\n",
       "                     'right': {'left': -14.988279,\n",
       "                      'right': -14.391613,\n",
       "                      'spInd': 0,\n",
       "                      'spVal': 0.290749},\n",
       "                     'spInd': 0,\n",
       "                     'spVal': 0.295993},\n",
       "                    'spInd': 0,\n",
       "                    'spVal': 0.297107},\n",
       "                   'spInd': 0,\n",
       "                   'spVal': 0.300318},\n",
       "                  'right': {'left': 35.623745999999997,\n",
       "                   'right': {'left': -9.4575560000000003,\n",
       "                    'right': {'left': 5.2805790000000004,\n",
       "                     'right': 2.5579230000000002,\n",
       "                     'spInd': 0,\n",
       "                     'spVal': 0.264639},\n",
       "                    'spInd': 0,\n",
       "                    'spVal': 0.264926},\n",
       "                   'spInd': 0,\n",
       "                   'spVal': 0.273863},\n",
       "                  'spInd': 0,\n",
       "                  'spVal': 0.284794},\n",
       "                 'right': {'left': {'left': -9.601409499999999,\n",
       "                   'right': -30.812912000000001,\n",
       "                   'spInd': 0,\n",
       "                   'spVal': 0.228751},\n",
       "                  'right': -2.266273,\n",
       "                  'spInd': 0,\n",
       "                  'spVal': 0.228628},\n",
       "                 'spInd': 0,\n",
       "                 'spVal': 0.25807},\n",
       "                'right': 6.0992389999999999,\n",
       "                'spInd': 0,\n",
       "                'spVal': 0.228473},\n",
       "               'right': {'left': -16.427370249999999,\n",
       "                'right': -2.6781804999999999,\n",
       "                'spInd': 0,\n",
       "                'spVal': 0.202161},\n",
       "               'spInd': 0,\n",
       "               'spVal': 0.211633},\n",
       "              'right': 9.5773855000000001,\n",
       "              'spInd': 0,\n",
       "              'spVal': 0.193282},\n",
       "             'right': {'left': {'left': {'left': -14.740059,\n",
       "                'right': -6.5125060000000001,\n",
       "                'spInd': 0,\n",
       "                'spVal': 0.166431},\n",
       "               'right': -27.405211000000001,\n",
       "               'spInd': 0,\n",
       "               'spVal': 0.164134},\n",
       "              'right': 0.225886,\n",
       "              'spInd': 0,\n",
       "              'spVal': 0.156273},\n",
       "             'spInd': 0,\n",
       "             'spVal': 0.166765},\n",
       "            'right': {'left': 7.5573490000000003,\n",
       "             'right': 7.3367839999999998,\n",
       "             'spInd': 0,\n",
       "             'spVal': 0.13988},\n",
       "            'spInd': 0,\n",
       "            'spVal': 0.156067},\n",
       "           'right': -29.087463,\n",
       "           'spInd': 0,\n",
       "           'spVal': 0.138619},\n",
       "          'right': 22.478290999999999,\n",
       "          'spInd': 0,\n",
       "          'spVal': 0.131833},\n",
       "         'spInd': 0,\n",
       "         'spVal': 0.309133},\n",
       "        'spInd': 0,\n",
       "        'spVal': 0.324274},\n",
       "       'spInd': 0,\n",
       "       'spVal': 0.335182},\n",
       "      'spInd': 0,\n",
       "      'spVal': 0.382037},\n",
       "     'right': -39.524461000000002,\n",
       "     'spInd': 0,\n",
       "     'spVal': 0.130626},\n",
       "    'right': {'left': 22.891674999999999,\n",
       "     'right': {'left': {'left': 6.1965159999999999,\n",
       "       'right': {'left': -16.106164,\n",
       "        'right': {'left': -1.2931950000000001,\n",
       "         'right': -10.137104000000001,\n",
       "         'spInd': 0,\n",
       "         'spVal': 0.085873},\n",
       "        'spInd': 0,\n",
       "        'spVal': 0.10796},\n",
       "       'spInd': 0,\n",
       "       'spVal': 0.108801},\n",
       "      'right': {'left': 37.820658999999999,\n",
       "       'right': {'left': -24.132225999999999,\n",
       "        'right': {'left': 15.824970500000001,\n",
       "         'right': {'left': -15.160836,\n",
       "          'right': {'left': {'left': {'left': 6.6955669999999996,\n",
       "             'right': -3.131497,\n",
       "             'spInd': 0,\n",
       "             'spVal': 0.055862},\n",
       "            'right': -13.731698,\n",
       "            'spInd': 0,\n",
       "            'spVal': 0.053764},\n",
       "           'right': 4.0916259999999998,\n",
       "           'spInd': 0,\n",
       "           'spVal': 0.044737},\n",
       "          'spInd': 0,\n",
       "          'spVal': 0.061219},\n",
       "         'spInd': 0,\n",
       "         'spVal': 0.068373},\n",
       "        'spInd': 0,\n",
       "        'spVal': 0.080061},\n",
       "       'spInd': 0,\n",
       "       'spVal': 0.084661},\n",
       "      'spInd': 0,\n",
       "      'spVal': 0.085111},\n",
       "     'spInd': 0,\n",
       "     'spVal': 0.124723},\n",
       "    'spInd': 0,\n",
       "    'spVal': 0.126833},\n",
       "   'spInd': 0,\n",
       "   'spVal': 0.455761},\n",
       "  'spInd': 0,\n",
       "  'spVal': 0.457563},\n",
       " 'spInd': 0,\n",
       " 'spVal': 0.499171}"
      ]
     },
     "execution_count": 8,
     "metadata": {},
     "output_type": "execute_result"
    }
   ],
   "source": [
    "myTree = regTrees.createTree(myMat2, ops=(0,1))\n",
    "myDatTest = regTrees.loadDataSet('ex2test.txt')\n",
    "myMat2Test = np.mat(myDatTest)\n",
    "regTrees.prune(myTree, myMat2Test)"
   ]
  },
  {
   "cell_type": "code",
   "execution_count": 11,
   "metadata": {
    "collapsed": false
   },
   "outputs": [
    {
     "data": {
      "text/plain": [
       "{'left': matrix([[  1.69855694e-03],\n",
       "         [  1.19647739e+01]]), 'right': matrix([[ 3.46877936],\n",
       "         [ 1.18521743]]), 'spInd': 0, 'spVal': 0.285477}"
      ]
     },
     "execution_count": 11,
     "metadata": {},
     "output_type": "execute_result"
    }
   ],
   "source": [
    "myMat2 = np.mat(regTrees.loadDataSet('exp2.txt'))\n",
    "regTrees.createTree(myMat2, regTrees.modelLeaf, regTrees.modelErr,(1,10))"
   ]
  },
  {
   "cell_type": "code",
   "execution_count": 14,
   "metadata": {
    "collapsed": false
   },
   "outputs": [
    {
     "data": {
      "text/plain": [
       "0.96408523182221506"
      ]
     },
     "execution_count": 14,
     "metadata": {},
     "output_type": "execute_result"
    }
   ],
   "source": [
    "trainMat = np.mat(regTrees.loadDataSet('bikeSpeedVsIq_train.txt'))\n",
    "testMat = np.mat(regTrees.loadDataSet('bikeSpeedVsIq_test.txt'))\n",
    "myTree = regTrees.createTree(trainMat, ops=(1,20))\n",
    "yHat = regTrees.createForeCast(myTree, testMat[:,0])\n",
    "np.corrcoef(yHat, testMat[:,1], rowvar=0)[0,1]"
   ]
  },
  {
   "cell_type": "code",
   "execution_count": 15,
   "metadata": {
    "collapsed": false
   },
   "outputs": [
    {
     "name": "stdout",
     "output_type": "stream",
     "text": [
      "[[ 37.58916794]\n",
      " [  6.18978355]]\n"
     ]
    }
   ],
   "source": [
    "ws, X, Y = regTrees.linearSolve(trainMat)\n",
    "print(ws)"
   ]
  },
  {
   "cell_type": "markdown",
   "metadata": {},
   "source": [
    "# r2 test"
   ]
  },
  {
   "cell_type": "code",
   "execution_count": 18,
   "metadata": {
    "collapsed": false
   },
   "outputs": [
    {
     "data": {
      "text/plain": [
       "0.94346842356747662"
      ]
     },
     "execution_count": 18,
     "metadata": {},
     "output_type": "execute_result"
    }
   ],
   "source": [
    "for i in range(np.shape(testMat)[0]):\n",
    "    yHat[i] = testMat[i,0]*ws[1,0]+ws[0,0]\n",
    "np.corrcoef(yHat, testMat[:,1], rowvar=0)[0,1]"
   ]
  }
 ],
 "metadata": {
  "kernelspec": {
   "display_name": "Python 2",
   "language": "python",
   "name": "python2"
  },
  "language_info": {
   "codemirror_mode": {
    "name": "ipython",
    "version": 2
   },
   "file_extension": ".py",
   "mimetype": "text/x-python",
   "name": "python",
   "nbconvert_exporter": "python",
   "pygments_lexer": "ipython2",
   "version": "2.7.13"
  }
 },
 "nbformat": 4,
 "nbformat_minor": 2
}
