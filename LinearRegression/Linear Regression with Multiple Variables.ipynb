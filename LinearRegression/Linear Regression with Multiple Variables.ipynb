{
 "cells": [
  {
   "cell_type": "markdown",
   "metadata": {},
   "source": [
    "## 多变量线性回归(Linear Regression with Multiple Variables)"
   ]
  },
  {
   "cell_type": "code",
   "execution_count": 1,
   "metadata": {},
   "outputs": [],
   "source": [
    "#初始化工作\n",
    "import random\n",
    "import numpy as np\n",
    "import matplotlib.pyplot as plt\n",
    "\n",
    "# This is a bit of magic to make matplotlib figures appear inline in the notebook\n",
    "# rather than in a new window.\n",
    "%matplotlib inline\n",
    "plt.rcParams['figure.figsize'] = (10.0, 8.0) # set default size of plots\n",
    "plt.rcParams['image.interpolation'] = 'nearest'\n",
    "plt.rcParams['image.cmap'] = 'gray'\n",
    "\n",
    "# Some more magic so that the notebook will reload external python modules;\n",
    "# see http://stackoverflow.com/questions/1907993/autoreload-of-modules-in-ipython\n",
    "%load_ext autoreload\n",
    "%autoreload 2"
   ]
  },
  {
   "cell_type": "markdown",
   "metadata": {},
   "source": [
    "### 1、加载数据\n",
    " 数据格式为：\n",
    " \n",
    "X1,X2,Y\n",
    "\n",
    "2104,3,399900\n",
    "\n",
    "1600,3,329900\n",
    "\n",
    "2400,3,369000\n",
    "\n",
    "1416,2,232000\n",
    "\n",
    "将数据逐行读取，用逗号切分，并放入np.array\n"
   ]
  },
  {
   "cell_type": "code",
   "execution_count": 2,
   "metadata": {},
   "outputs": [
    {
     "name": "stdout",
     "output_type": "stream",
     "text": [
      "First 10 examples from the dataset: \n",
      "\n",
      "(' x = ', array([[2104,    3],\n",
      "       [1600,    3],\n",
      "       [2400,    3],\n",
      "       [1416,    2],\n",
      "       [3000,    4],\n",
      "       [1985,    4],\n",
      "       [1534,    3],\n",
      "       [1427,    3],\n",
      "       [1380,    3],\n",
      "       [1494,    3]]), '\\ny=', array([[399900],\n",
      "       [329900],\n",
      "       [369000],\n",
      "       [232000],\n",
      "       [539900],\n",
      "       [299900],\n",
      "       [314900],\n",
      "       [198999],\n",
      "       [212000],\n",
      "       [242500]]))\n"
     ]
    }
   ],
   "source": [
    "#加载数据\n",
    "def load_exdata(filename):\n",
    "    data = []\n",
    "    with open(filename, 'r') as f:\n",
    "        for line in f.readlines(): \n",
    "            line = line.split(',')\n",
    "            current = [int(item) for item in line]\n",
    "            #5.5277,9.1302\n",
    "            data.append(current)\n",
    "    return data\n",
    "\n",
    "data = load_exdata('ex1data2.txt');\n",
    "data = np.array(data,np.int64)\n",
    "\n",
    "x = data[:,(0,1)].reshape((-1,2))\n",
    "y = data[:,2].reshape((-1,1))\n",
    "m = y.shape[0]\n",
    "\n",
    "# Print out some data points\n",
    "print('First 10 examples from the dataset: \\n')\n",
    "print(' x = ',x[range(10),:],'\\ny=',y[range(10),:])"
   ]
  },
  {
   "cell_type": "markdown",
   "metadata": {},
   "source": [
    "## 2、通过梯度下降求解theta\n",
    "\n",
    "1. 面对多维特征问题的时候，要保证特征具有相近的尺度，这将帮助梯度下降算法更快地收敛。解决的方法是尝试将所有特征的尺度都尽量缩放到-1 到 1 之间，最简单的方法就是(X - mu) / sigma，其中mu是平均值， sigma 是标准差。\n",
    "2. 损失函数和单变量一样，依然计算损失平方和均值\n",
    "3. X需要加上一列1"
   ]
  },
  {
   "cell_type": "code",
   "execution_count": 6,
   "metadata": {
    "scrolled": false
   },
   "outputs": [
    {
     "name": "stdout",
     "output_type": "stream",
     "text": [
      "[[  1.31415422e-01  -2.26093368e-01   1.00000000e+00]\n",
      " [ -5.09640698e-01  -2.26093368e-01   1.00000000e+00]\n",
      " [  5.07908699e-01  -2.26093368e-01   1.00000000e+00]\n",
      " [ -7.43677059e-01  -1.55439190e+00   1.00000000e+00]\n",
      " [  1.27107075e+00   1.10220517e+00   1.00000000e+00]\n",
      " [ -1.99450507e-02   1.10220517e+00   1.00000000e+00]\n",
      " [ -5.93588523e-01  -2.26093368e-01   1.00000000e+00]\n",
      " [ -7.29685755e-01  -2.26093368e-01   1.00000000e+00]\n",
      " [ -7.89466782e-01  -2.26093368e-01   1.00000000e+00]\n",
      " [ -6.44465993e-01  -2.26093368e-01   1.00000000e+00]\n",
      " [ -7.71822042e-02   1.10220517e+00   1.00000000e+00]\n",
      " [ -8.65999486e-04  -2.26093368e-01   1.00000000e+00]\n",
      " [ -1.40779041e-01  -2.26093368e-01   1.00000000e+00]\n",
      " [  3.15099326e+00   2.43050370e+00   1.00000000e+00]\n",
      " [ -9.31923697e-01  -2.26093368e-01   1.00000000e+00]\n",
      " [  3.80715024e-01   1.10220517e+00   1.00000000e+00]\n",
      " [ -8.65782986e-01  -1.55439190e+00   1.00000000e+00]\n",
      " [ -9.72625673e-01  -2.26093368e-01   1.00000000e+00]\n",
      " [  7.73743478e-01   1.10220517e+00   1.00000000e+00]\n",
      " [  1.31050078e+00   1.10220517e+00   1.00000000e+00]\n",
      " [ -2.97227261e-01  -2.26093368e-01   1.00000000e+00]\n",
      " [ -1.43322915e-01  -1.55439190e+00   1.00000000e+00]\n",
      " [ -5.04552951e-01  -2.26093368e-01   1.00000000e+00]\n",
      " [ -4.91995958e-02   1.10220517e+00   1.00000000e+00]\n",
      " [  2.40309445e+00  -2.26093368e-01   1.00000000e+00]\n",
      " [ -1.14560907e+00  -2.26093368e-01   1.00000000e+00]\n",
      " [ -6.90255715e-01  -2.26093368e-01   1.00000000e+00]\n",
      " [  6.68172729e-01  -2.26093368e-01   1.00000000e+00]\n",
      " [  2.53521350e-01  -2.26093368e-01   1.00000000e+00]\n",
      " [  8.09357707e-01  -2.26093368e-01   1.00000000e+00]]\n",
      "('Theta found by gradient descent', array([[ 109447.79646964],\n",
      "       [  -6578.35485416],\n",
      "       [ 340412.65957447]]))\n"
     ]
    }
   ],
   "source": [
    "#特征缩放\n",
    "def featureNormalize(X):\n",
    "    X_norm = X;\n",
    "    mu = np.zeros((1,X.shape[1]))\n",
    "    sigma = np.zeros((1,X.shape[1]))\n",
    "    for i in range(X.shape[1]):\n",
    "        mu[0,i] = np.mean(X[:,i]) # 均值\n",
    "        sigma[0,i] = np.std(X[:,i])     # 标准差\n",
    "#     print(mu)\n",
    "#     print(sigma)\n",
    "    X_norm  = (X - mu) / sigma\n",
    "    return X_norm,mu,sigma\n",
    "\n",
    "#计算损失\n",
    "def computeCost(X, y, theta):\n",
    "    m = y.shape[0]\n",
    "#     J = (np.sum((X.dot(theta) - y)**2)) / (2*m) \n",
    "    C = X.dot(theta) - y\n",
    "    J2 = (C.T.dot(C))/ (2*m)\n",
    "    return J2\n",
    "\n",
    "#梯度下降\n",
    "def gradientDescent(X, y, theta, alpha, num_iters):\n",
    "    m = y.shape[0]\n",
    "    #print(m)\n",
    "    # 存储历史误差\n",
    "    J_history = np.zeros((num_iters, 1))\n",
    "    for iter in range(num_iters):\n",
    "        # 对J求导，得到 alpha/m * (WX - Y)*x(i)， (3,m)*(m,1)  X (m,3)*(3,1) = (m,1)\n",
    "        theta = theta - (alpha/m) * (X.T.dot(X.dot(theta) - y))\n",
    "        J_history[iter] = computeCost(X, y, theta)\n",
    "    return J_history,theta\n",
    "    \n",
    "\n",
    "iterations = 10000  #迭代次数\n",
    "alpha = 0.01    #学习率\n",
    "x = data[:,(0,1)].reshape((-1,2))\n",
    "y = data[:,2].reshape((-1,1))\n",
    "m = y.shape[0]\n",
    "x,mu,sigma = featureNormalize(x)\n",
    "X = np.hstack([x,np.ones((x.shape[0], 1))])\n",
    "print(X[:30])\n",
    "# X = X[range(2),:]\n",
    "# y = y[range(2),:]\n",
    "\n",
    "theta = np.zeros((3, 1))\n",
    "\n",
    "j = computeCost(X,y,theta)\n",
    "J_history,theta = gradientDescent(X, y, theta, alpha, iterations)\n",
    "\n",
    "\n",
    "print('Theta found by gradient descent',theta)\n",
    "\n",
    "\n"
   ]
  },
  {
   "cell_type": "markdown",
   "metadata": {
    "collapsed": true
   },
   "source": [
    "### 绘制迭代收敛图"
   ]
  },
  {
   "cell_type": "code",
   "execution_count": 4,
   "metadata": {},
   "outputs": [
    {
     "data": {
      "text/plain": [
       "<matplotlib.text.Text at 0x7f26549fb110>"
      ]
     },
     "execution_count": 4,
     "metadata": {},
     "output_type": "execute_result"
    },
    {
     "data": {
      "image/png": "[encoded data removed]",
      "text/plain": [
       "<matplotlib.figure.Figure at 0x7f2656a6ec90>"
      ]
     },
     "metadata": {},
     "output_type": "display_data"
    }
   ],
   "source": [
    "plt.plot(J_history)\n",
    "plt.ylabel('lost');\n",
    "plt.xlabel('iter count')\n",
    "plt.title('convergence graph')"
   ]
  },
  {
   "cell_type": "markdown",
   "metadata": {},
   "source": [
    "### 预测"
   ]
  },
  {
   "cell_type": "code",
   "execution_count": 5,
   "metadata": {},
   "outputs": [
    {
     "name": "stdout",
     "output_type": "stream",
     "text": [
      "price is 293081 \n"
     ]
    }
   ],
   "source": [
    "def predict(data):\n",
    "    testx = np.array(data)\n",
    "    testx = ((testx - mu) / sigma)\n",
    "    testx = np.hstack([testx,np.ones((testx.shape[0], 1))])\n",
    "    price = testx.dot(theta)\n",
    "    print('price is %d ' % (price))\n",
    "\n",
    "predict([1650,3])"
   ]
  }
 ],
 "metadata": {
  "kernelspec": {
   "display_name": "Python 2",
   "language": "python",
   "name": "python2"
  },
  "language_info": {
   "codemirror_mode": {
    "name": "ipython",
    "version": 2
   },
   "file_extension": ".py",
   "mimetype": "text/x-python",
   "name": "python",
   "nbconvert_exporter": "python",
   "pygments_lexer": "ipython2",
   "version": "2.7.12"
  }
 },
 "nbformat": 4,
 "nbformat_minor": 1
}
