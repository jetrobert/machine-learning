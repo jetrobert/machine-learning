{
 "cells": [
  {
   "cell_type": "code",
   "execution_count": 7,
   "metadata": {
    "collapsed": false
   },
   "outputs": [],
   "source": [
    "import apriori"
   ]
  },
  {
   "cell_type": "markdown",
   "metadata": {},
   "source": [
    "# load data"
   ]
  },
  {
   "cell_type": "code",
   "execution_count": 8,
   "metadata": {
    "collapsed": false
   },
   "outputs": [
    {
     "name": "stdout",
     "output_type": "stream",
     "text": [
      "[[1, 3, 4], [2, 3, 5], [1, 2, 3, 5], [2, 5]]\n"
     ]
    }
   ],
   "source": [
    "dataSet = apriori.loadDataSet()\n",
    "print(dataSet)"
   ]
  },
  {
   "cell_type": "code",
   "execution_count": 9,
   "metadata": {
    "collapsed": false
   },
   "outputs": [
    {
     "name": "stdout",
     "output_type": "stream",
     "text": [
      "[frozenset([1]), frozenset([2]), frozenset([3]), frozenset([4]), frozenset([5])]\n"
     ]
    }
   ],
   "source": [
    "C1 = apriori.createC1(dataSet)\n",
    "print(C1)"
   ]
  },
  {
   "cell_type": "code",
   "execution_count": 11,
   "metadata": {
    "collapsed": false
   },
   "outputs": [
    {
     "name": "stdout",
     "output_type": "stream",
     "text": [
      "[frozenset([1]), frozenset([3]), frozenset([2]), frozenset([5])]\n"
     ]
    }
   ],
   "source": [
    "D = map(set, dataSet)\n",
    "L1, suppData0 = apriori.scanD(D, C1, 0.5)\n",
    "print(L1)"
   ]
  },
  {
   "cell_type": "code",
   "execution_count": 12,
   "metadata": {
    "collapsed": false
   },
   "outputs": [
    {
     "name": "stdout",
     "output_type": "stream",
     "text": [
      "[[frozenset([1]), frozenset([3]), frozenset([2]), frozenset([5])], [frozenset([1, 3]), frozenset([2, 5]), frozenset([2, 3]), frozenset([3, 5])], [frozenset([2, 3, 5])], []]\n"
     ]
    }
   ],
   "source": [
    "L, suppData = apriori.apriori(dataSet)\n",
    "print(L)"
   ]
  },
  {
   "cell_type": "code",
   "execution_count": 13,
   "metadata": {
    "collapsed": false
   },
   "outputs": [
    {
     "name": "stdout",
     "output_type": "stream",
     "text": [
      "[frozenset([1]), frozenset([3]), frozenset([2]), frozenset([5])]\n",
      "[frozenset([1, 3]), frozenset([2, 5]), frozenset([2, 3]), frozenset([3, 5])]\n"
     ]
    }
   ],
   "source": [
    "print(L[0])\n",
    "print(L[1])"
   ]
  },
  {
   "cell_type": "markdown",
   "metadata": {},
   "source": [
    "# association rules"
   ]
  },
  {
   "cell_type": "code",
   "execution_count": 15,
   "metadata": {
    "collapsed": false
   },
   "outputs": [
    {
     "name": "stdout",
     "output_type": "stream",
     "text": [
      "frozenset([1]) --> frozenset([3]) conf: 1.0\n",
      "frozenset([5]) --> frozenset([2]) conf: 1.0\n",
      "frozenset([2]) --> frozenset([5]) conf: 1.0\n",
      "[(frozenset([1]), frozenset([3]), 1.0), (frozenset([5]), frozenset([2]), 1.0), (frozenset([2]), frozenset([5]), 1.0)]\n"
     ]
    }
   ],
   "source": [
    "L, suppData = apriori.apriori(dataSet, minSupport=0.5)\n",
    "rules = apriori.generateRules(L, suppData, minConf=0.7)\n",
    "print(rules)"
   ]
  },
  {
   "cell_type": "markdown",
   "metadata": {},
   "source": [
    "# load votesmart api"
   ]
  },
  {
   "cell_type": "code",
   "execution_count": 17,
   "metadata": {
    "collapsed": false
   },
   "outputs": [
    {
     "ename": "VotesmartApiError",
     "evalue": "Authorization failed",
     "output_type": "error",
     "traceback": [
      "\u001b[1;31m---------------------------------------------------------------------------\u001b[0m",
      "\u001b[1;31mVotesmartApiError\u001b[0m                         Traceback (most recent call last)",
      "\u001b[1;32m<ipython-input-17-2fc21955a0b6>\u001b[0m in \u001b[0;36m<module>\u001b[1;34m()\u001b[0m\n\u001b[0;32m      1\u001b[0m \u001b[1;32mfrom\u001b[0m \u001b[0mvotesmart\u001b[0m \u001b[1;32mimport\u001b[0m \u001b[0mvotesmart\u001b[0m\u001b[1;33m\u001b[0m\u001b[0m\n\u001b[1;32m----> 2\u001b[1;33m \u001b[0mbills\u001b[0m \u001b[1;33m=\u001b[0m \u001b[0mvotesmart\u001b[0m\u001b[1;33m.\u001b[0m\u001b[0mvotes\u001b[0m\u001b[1;33m.\u001b[0m\u001b[0mgetBillsByStateRecent\u001b[0m\u001b[1;33m(\u001b[0m\u001b[1;33m)\u001b[0m\u001b[1;33m\u001b[0m\u001b[0m\n\u001b[0m\u001b[0;32m      3\u001b[0m \u001b[1;32mfor\u001b[0m \u001b[0mbill\u001b[0m \u001b[1;32min\u001b[0m \u001b[0mbills\u001b[0m\u001b[1;33m:\u001b[0m\u001b[1;33m\u001b[0m\u001b[0m\n\u001b[0;32m      4\u001b[0m     \u001b[1;32mprint\u001b[0m\u001b[1;33m(\u001b[0m\u001b[0mbill\u001b[0m\u001b[1;33m.\u001b[0m\u001b[0mtitle\u001b[0m\u001b[1;33m,\u001b[0m \u001b[0mbill\u001b[0m\u001b[1;33m.\u001b[0m\u001b[0mbillId\u001b[0m\u001b[1;33m)\u001b[0m\u001b[1;33m\u001b[0m\u001b[0m\n",
      "\u001b[1;32mD:\\ProgramFiles\\Anaconda2\\lib\\site-packages\\votesmart.pyc\u001b[0m in \u001b[0;36mgetBillsByStateRecent\u001b[1;34m(stateId, amount)\u001b[0m\n\u001b[0;32m    634\u001b[0m         \u001b[1;32mdef\u001b[0m \u001b[0mgetBillsByStateRecent\u001b[0m\u001b[1;33m(\u001b[0m\u001b[0mstateId\u001b[0m\u001b[1;33m=\u001b[0m\u001b[0mNone\u001b[0m\u001b[1;33m,\u001b[0m \u001b[0mamount\u001b[0m\u001b[1;33m=\u001b[0m\u001b[0mNone\u001b[0m\u001b[1;33m)\u001b[0m\u001b[1;33m:\u001b[0m\u001b[1;33m\u001b[0m\u001b[0m\n\u001b[0;32m    635\u001b[0m             \u001b[0mparams\u001b[0m \u001b[1;33m=\u001b[0m \u001b[1;33m{\u001b[0m\u001b[1;34m'stateId'\u001b[0m\u001b[1;33m:\u001b[0m\u001b[0mstateId\u001b[0m\u001b[1;33m,\u001b[0m \u001b[1;34m'amount'\u001b[0m\u001b[1;33m:\u001b[0m\u001b[0mamount\u001b[0m\u001b[1;33m}\u001b[0m\u001b[1;33m\u001b[0m\u001b[0m\n\u001b[1;32m--> 636\u001b[1;33m             \u001b[0mresult\u001b[0m \u001b[1;33m=\u001b[0m \u001b[0mvotesmart\u001b[0m\u001b[1;33m.\u001b[0m\u001b[0m_apicall\u001b[0m\u001b[1;33m(\u001b[0m\u001b[1;34m'Votes.getBillsByStateRecent'\u001b[0m\u001b[1;33m,\u001b[0m \u001b[0mparams\u001b[0m\u001b[1;33m)\u001b[0m\u001b[1;33m\u001b[0m\u001b[0m\n\u001b[0m\u001b[0;32m    637\u001b[0m             \u001b[1;32mreturn\u001b[0m \u001b[0m_result_to_obj\u001b[0m\u001b[1;33m(\u001b[0m\u001b[0mBill\u001b[0m\u001b[1;33m,\u001b[0m \u001b[0mresult\u001b[0m\u001b[1;33m[\u001b[0m\u001b[1;34m'bills'\u001b[0m\u001b[1;33m]\u001b[0m\u001b[1;33m[\u001b[0m\u001b[1;34m'bill'\u001b[0m\u001b[1;33m]\u001b[0m\u001b[1;33m)\u001b[0m\u001b[1;33m\u001b[0m\u001b[0m\n\u001b[0;32m    638\u001b[0m \u001b[1;33m\u001b[0m\u001b[0m\n",
      "\u001b[1;32mD:\\ProgramFiles\\Anaconda2\\lib\\site-packages\\votesmart.pyc\u001b[0m in \u001b[0;36m_apicall\u001b[1;34m(func, params)\u001b[0m\n\u001b[0;32m    213\u001b[0m             \u001b[0mobj\u001b[0m \u001b[1;33m=\u001b[0m \u001b[0mjson\u001b[0m\u001b[1;33m.\u001b[0m\u001b[0mloads\u001b[0m\u001b[1;33m(\u001b[0m\u001b[0mresponse\u001b[0m\u001b[1;33m)\u001b[0m\u001b[1;33m\u001b[0m\u001b[0m\n\u001b[0;32m    214\u001b[0m             \u001b[1;32mif\u001b[0m \u001b[1;34m'error'\u001b[0m \u001b[1;32min\u001b[0m \u001b[0mobj\u001b[0m\u001b[1;33m:\u001b[0m\u001b[1;33m\u001b[0m\u001b[0m\n\u001b[1;32m--> 215\u001b[1;33m                 \u001b[1;32mraise\u001b[0m \u001b[0mVotesmartApiError\u001b[0m\u001b[1;33m(\u001b[0m\u001b[0mobj\u001b[0m\u001b[1;33m[\u001b[0m\u001b[1;34m'error'\u001b[0m\u001b[1;33m]\u001b[0m\u001b[1;33m[\u001b[0m\u001b[1;34m'errorMessage'\u001b[0m\u001b[1;33m]\u001b[0m\u001b[1;33m)\u001b[0m\u001b[1;33m\u001b[0m\u001b[0m\n\u001b[0m\u001b[0;32m    216\u001b[0m             \u001b[1;32melse\u001b[0m\u001b[1;33m:\u001b[0m\u001b[1;33m\u001b[0m\u001b[0m\n\u001b[0;32m    217\u001b[0m                 \u001b[1;32mreturn\u001b[0m \u001b[0mobj\u001b[0m\u001b[1;33m\u001b[0m\u001b[0m\n",
      "\u001b[1;31mVotesmartApiError\u001b[0m: Authorization failed"
     ]
    }
   ],
   "source": [
    "from votesmart import votesmart\n",
    "bills = votesmart.votes.getBillsByStateRecent()\n",
    "for bill in bills:\n",
    "    print(bill.title, bill.billId)"
   ]
  },
  {
   "cell_type": "code",
   "execution_count": 18,
   "metadata": {
    "collapsed": false,
    "scrolled": false
   },
   "outputs": [
    {
     "name": "stdout",
     "output_type": "stream",
     "text": [
      "problem getting bill 12939\n",
      "problem getting bill 12940\n",
      "problem getting bill 12830\n",
      "problem getting bill 12857\n",
      "problem getting bill 12988\n",
      "problem getting bill 12040\n",
      "problem getting bill 12465\n",
      "problem getting bill 11451\n",
      "problem getting bill 11364\n",
      "problem getting bill 11820\n",
      "problem getting bill 12452\n",
      "problem getting bill 11318\n",
      "problem getting bill 11414\n",
      "problem getting bill 11719\n",
      "problem getting bill 11205\n",
      "problem getting bill 12747\n",
      "problem getting bill 12792\n",
      "problem getting bill 12827\n",
      "problem getting bill 12445\n",
      "problem getting bill 12049\n"
     ]
    }
   ],
   "source": [
    "actionIdList, billTitles = apriori.getActionIds()"
   ]
  },
  {
   "cell_type": "markdown",
   "metadata": {},
   "source": [
    "# votesmart item meaning"
   ]
  },
  {
   "cell_type": "code",
   "execution_count": 24,
   "metadata": {
    "collapsed": false
   },
   "outputs": [],
   "source": [
    "transDict, itemMeaning = apriori.getTransList(actionIdList[:2], billTitles[:2])\n",
    "\n",
    "for key in transDict.keys():\n",
    "    print(transDict[key])"
   ]
  },
  {
   "cell_type": "code",
   "execution_count": 25,
   "metadata": {
    "collapsed": true
   },
   "outputs": [],
   "source": [
    "dataSet = [transDict[key] for key in transDict.keys()]"
   ]
  },
  {
   "cell_type": "markdown",
   "metadata": {},
   "source": [
    "# association rules"
   ]
  },
  {
   "cell_type": "code",
   "execution_count": 26,
   "metadata": {
    "collapsed": false
   },
   "outputs": [
    {
     "name": "stdout",
     "output_type": "stream",
     "text": [
      "[[]]\n"
     ]
    }
   ],
   "source": [
    "L, suppData = apriori.apriori(dataSet, minSupport=0.5)\n",
    "print(L)"
   ]
  },
  {
   "cell_type": "code",
   "execution_count": 29,
   "metadata": {
    "collapsed": true
   },
   "outputs": [],
   "source": [
    "rules = apriori.generateRules(L, suppData, minConf=0.95)"
   ]
  },
  {
   "cell_type": "markdown",
   "metadata": {},
   "source": [
    "# mushroom frequent set"
   ]
  },
  {
   "cell_type": "code",
   "execution_count": 31,
   "metadata": {
    "collapsed": false
   },
   "outputs": [
    {
     "name": "stdout",
     "output_type": "stream",
     "text": [
      "frozenset(['2', '59'])\n",
      "frozenset(['39', '2'])\n",
      "frozenset(['2', '67'])\n",
      "frozenset(['2', '34'])\n",
      "frozenset(['2', '23'])\n",
      "frozenset(['2', '86'])\n",
      "frozenset(['76', '2'])\n",
      "frozenset(['90', '2'])\n",
      "frozenset(['2', '53'])\n",
      "frozenset(['93', '2'])\n",
      "frozenset(['63', '2'])\n",
      "frozenset(['2', '28'])\n",
      "frozenset(['2', '85'])\n",
      "frozenset(['2', '36'])\n"
     ]
    }
   ],
   "source": [
    "mushDatSet = [line.split( ) for line in open('mushroom.dat').readlines()]\n",
    "L, suppData = apriori.apriori(mushDatSet, minSupport=0.3)\n",
    "for item in L[1]:\n",
    "    if item.intersection('2'):\n",
    "        print(item)"
   ]
  },
  {
   "cell_type": "code",
   "execution_count": 32,
   "metadata": {
    "collapsed": false,
    "scrolled": false
   },
   "outputs": [
    {
     "name": "stdout",
     "output_type": "stream",
     "text": [
      "frozenset(['63', '59', '2', '93'])\n",
      "frozenset(['39', '2', '53', '34'])\n",
      "frozenset(['2', '59', '23', '85'])\n",
      "frozenset(['2', '59', '90', '85'])\n",
      "frozenset(['39', '2', '36', '34'])\n",
      "frozenset(['39', '63', '2', '85'])\n",
      "frozenset(['39', '2', '90', '85'])\n",
      "frozenset(['2', '59', '90', '86'])\n",
      "frozenset(['2', '90', '93', '86'])\n",
      "frozenset(['39', '2', '63', '86'])\n",
      "frozenset(['39', '2', '93', '34'])\n",
      "frozenset(['76', '39', '2', '34'])\n",
      "frozenset(['39', '2', '59', '86'])\n",
      "frozenset(['2', '59', '90', '36'])\n",
      "frozenset(['2', '59', '93', '85'])\n",
      "frozenset(['2', '59', '86', '34'])\n",
      "frozenset(['2', '63', '90', '86'])\n",
      "frozenset(['39', '63', '2', '36'])\n",
      "frozenset(['2', '67', '86', '85'])\n",
      "frozenset(['2', '28', '53', '85'])\n",
      "frozenset(['2', '59', '93', '36'])\n",
      "frozenset(['63', '23', '2', '34'])\n",
      "frozenset(['2', '23', '36', '85'])\n",
      "frozenset(['2', '90', '34', '85'])\n",
      "frozenset(['39', '2', '59', '34'])\n",
      "frozenset(['39', '2', '90', '34'])\n",
      "frozenset(['2', '59', '28', '85'])\n",
      "frozenset(['2', '34', '28', '85'])\n",
      "frozenset(['2', '59', '23', '36'])\n",
      "frozenset(['2', '23', '93', '36'])\n",
      "frozenset(['2', '23', '86', '85'])\n",
      "frozenset(['39', '2', '34', '85'])\n",
      "frozenset(['2', '93', '86', '34'])\n",
      "frozenset(['63', '59', '2', '36'])\n",
      "frozenset(['63', '2', '28', '85'])\n",
      "frozenset(['2', '67', '86', '34'])\n",
      "frozenset(['39', '2', '67', '85'])\n",
      "frozenset(['2', '23', '90', '85'])\n",
      "frozenset(['39', '2', '28', '85'])\n",
      "frozenset(['39', '2', '90', '86'])\n",
      "frozenset(['76', '2', '86', '34'])\n",
      "frozenset(['2', '93', '36', '34'])\n",
      "frozenset(['63', '59', '2', '85'])\n",
      "frozenset(['2', '23', '93', '86'])\n",
      "frozenset(['39', '2', '53', '85'])\n",
      "frozenset(['2', '93', '86', '85'])\n",
      "frozenset(['2', '90', '86', '85'])\n",
      "frozenset(['2', '23', '86', '34'])\n",
      "frozenset(['2', '93', '86', '36'])\n",
      "frozenset(['2', '59', '86', '36'])\n",
      "frozenset(['2', '23', '93', '85'])\n",
      "frozenset(['2', '90', '86', '36'])\n",
      "frozenset(['39', '2', '28', '34'])\n",
      "frozenset(['2', '23', '86', '36'])\n",
      "frozenset(['76', '39', '2', '85'])\n",
      "frozenset(['2', '23', '90', '34'])\n",
      "frozenset(['76', '2', '86', '85'])\n",
      "frozenset(['39', '2', '23', '36'])\n",
      "frozenset(['39', '2', '63', '34'])\n",
      "frozenset(['2', '59', '86', '85'])\n",
      "frozenset(['39', '2', '63', '93'])\n",
      "frozenset(['2', '93', '34', '85'])\n",
      "frozenset(['2', '23', '36', '34'])\n",
      "frozenset(['39', '2', '59', '93'])\n",
      "frozenset(['2', '90', '86', '53'])\n",
      "frozenset(['63', '59', '2', '86'])\n",
      "frozenset(['39', '2', '23', '63'])\n",
      "frozenset(['2', '23', '85', '34'])\n",
      "frozenset(['2', '23', '90', '86'])\n",
      "frozenset(['39', '2', '67', '34'])\n",
      "frozenset(['39', '2', '63', '28'])\n",
      "frozenset(['39', '2', '59', '23'])\n",
      "frozenset(['39', '2', '59', '85'])\n",
      "frozenset(['2', '63', '90', '85'])\n",
      "frozenset(['2', '90', '28', '85'])\n",
      "frozenset(['2', '34', '86', '85'])\n",
      "frozenset(['39', '2', '23', '85'])\n",
      "frozenset(['2', '90', '86', '34'])\n",
      "frozenset(['2', '86', '36', '85'])\n",
      "frozenset(['2', '86', '28', '53'])\n",
      "frozenset(['39', '2', '59', '36'])\n",
      "frozenset(['39', '2', '93', '36'])\n",
      "frozenset(['2', '63', '90', '36'])\n",
      "frozenset(['2', '59', '90', '34'])\n",
      "frozenset(['2', '90', '93', '36'])\n",
      "frozenset(['39', '2', '93', '86'])\n",
      "frozenset(['39', '2', '93', '85'])\n",
      "frozenset(['2', '86', '53', '85'])\n",
      "frozenset(['63', '2', '86', '36'])\n",
      "frozenset(['2', '39', '63', '90'])\n",
      "frozenset(['76', '2', '85', '34'])\n",
      "frozenset(['2', '90', '93', '85'])\n",
      "frozenset(['39', '2', '90', '53'])\n",
      "frozenset(['2', '23', '90', '93'])\n",
      "frozenset(['2', '59', '86', '28'])\n",
      "frozenset(['2', '59', '23', '90'])\n",
      "frozenset(['2', '86', '28', '85'])\n",
      "frozenset(['39', '2', '28', '86'])\n",
      "frozenset(['63', '2', '86', '85'])\n",
      "frozenset(['2', '86', '36', '34'])\n",
      "frozenset(['39', '2', '23', '86'])\n",
      "frozenset(['63', '2', '28', '34'])\n",
      "frozenset(['2', '59', '23', '34'])\n",
      "frozenset(['2', '59', '85', '34'])\n",
      "frozenset(['39', '2', '86', '53'])\n",
      "frozenset(['2', '63', '59', '90'])\n",
      "frozenset(['63', '2', '93', '34'])\n",
      "frozenset(['63', '2', '85', '34'])\n",
      "frozenset(['76', '39', '2', '86'])\n",
      "frozenset(['39', '2', '67', '86'])\n",
      "frozenset(['63', '59', '2', '34'])\n",
      "frozenset(['63', '2', '93', '85'])\n",
      "frozenset(['2', '59', '23', '86'])\n",
      "frozenset(['2', '59', '36', '85'])\n",
      "frozenset(['86', '63', '2', '28'])\n",
      "frozenset(['39', '2', '28', '53'])\n",
      "frozenset(['39', '2', '36', '85'])\n",
      "frozenset(['2', '23', '93', '34'])\n",
      "frozenset(['39', '2', '59', '63'])\n",
      "frozenset(['63', '23', '2', '85'])\n",
      "frozenset(['2', '28', '53', '34'])\n",
      "frozenset(['2', '85', '36', '34'])\n",
      "frozenset(['39', '2', '90', '93'])\n",
      "frozenset(['39', '2', '59', '90'])\n",
      "frozenset(['39', '2', '59', '28'])\n",
      "frozenset(['63', '59', '23', '2'])\n",
      "frozenset(['2', '63', '93', '86'])\n",
      "frozenset(['2', '90', '53', '34'])\n",
      "frozenset(['2', '59', '36', '34'])\n",
      "frozenset(['2', '86', '53', '34'])\n",
      "frozenset(['2', '59', '90', '28'])\n",
      "frozenset(['2', '63', '90', '93'])\n",
      "frozenset(['2', '90', '28', '53'])\n",
      "frozenset(['39', '2', '86', '85'])\n",
      "frozenset(['2', '90', '36', '85'])\n",
      "frozenset(['2', '90', '86', '28'])\n",
      "frozenset(['63', '23', '2', '86'])\n",
      "frozenset(['2', '34', '53', '85'])\n",
      "frozenset(['63', '2', '36', '34'])\n",
      "frozenset(['2', '59', '23', '93'])\n",
      "frozenset(['2', '59', '93', '86'])\n",
      "frozenset(['63', '2', '93', '36'])\n",
      "frozenset(['2', '28', '86', '34'])\n",
      "frozenset(['39', '2', '86', '36'])\n",
      "frozenset(['2', '90', '53', '85'])\n",
      "frozenset(['63', '2', '86', '34'])\n",
      "frozenset(['63', '23', '2', '36'])\n",
      "frozenset(['2', '93', '36', '85'])\n",
      "frozenset(['2', '63', '90', '34'])\n",
      "frozenset(['2', '59', '93', '34'])\n",
      "frozenset(['2', '90', '93', '34'])\n",
      "frozenset(['63', '2', '36', '85'])\n",
      "frozenset(['2', '67', '34', '85'])\n",
      "frozenset(['39', '2', '23', '93'])\n",
      "frozenset(['39', '2', '90', '36'])\n",
      "frozenset(['2', '59', '28', '34'])\n",
      "frozenset(['2', '90', '28', '34'])\n",
      "frozenset(['39', '2', '86', '34'])\n",
      "frozenset(['2', '90', '36', '34'])\n",
      "frozenset(['39', '2', '23', '34'])\n",
      "frozenset(['39', '2', '90', '28'])\n",
      "frozenset(['2', '59', '90', '93'])\n",
      "frozenset(['63', '59', '2', '28'])\n"
     ]
    }
   ],
   "source": [
    "for item in L[3]:\n",
    "    if item.intersection('2'): print(item)"
   ]
  }
 ],
 "metadata": {
  "kernelspec": {
   "display_name": "Python 2",
   "language": "python",
   "name": "python2"
  },
  "language_info": {
   "codemirror_mode": {
    "name": "ipython",
    "version": 2
   },
   "file_extension": ".py",
   "mimetype": "text/x-python",
   "name": "python",
   "nbconvert_exporter": "python",
   "pygments_lexer": "ipython2",
   "version": "2.7.13"
  }
 },
 "nbformat": 4,
 "nbformat_minor": 2
}
